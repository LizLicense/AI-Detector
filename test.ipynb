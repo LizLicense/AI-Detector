{
 "cells": [
  {
   "cell_type": "code",
   "execution_count": 1,
   "metadata": {},
   "outputs": [],
   "source": [
    "from detector import OpenaiDetector\n",
    "\n"
   ]
  },
  {
   "cell_type": "code",
   "execution_count": 4,
   "metadata": {},
   "outputs": [
    {
     "name": "stdout",
     "output_type": "stream",
     "text": [
      "{'Class': 'very unlikely', 'AI-Generated Probability': 3.4583769381404563}\n"
     ]
    }
   ],
   "source": [
    "sentence     = \"\"\"All children, except one, grow up. They soon know that they will grow up, and the way Wendy knew was this. One day when she was two years old she was playing in a garden, and she plucked another flower and ran with it to her mother. I suppose she must have looked rather delightful, for Mrs. Darling put her hand to her heart and cried, “Oh, why can’t you remain like this for ever!” This was all that passed between them on the subject, but henceforth Wendy knew that she must grow up. You always know after you are two. Two is the beginning of the end. Of course they lived at 14, and until Wendy came her mother was the chief one. She was a lovely lady, with a romantic mind and such a sweet mocking mouth. Her romantic mind was like the tiny boxes, one within the other, that come from the puzzling East, however many you discover there is always one more; and her sweet mocking mouth had one kiss on it that Wendy could never get, though there it was, perfectly conspicuous in the right-hand corner. The way Mr. Darling won her was this: the many gentlemen who had been boys when she was a girl discovered simultaneously that they loved her, and they all ran to her house to propose to her except Mr. Darling, who took a cab and nipped in first, and so he got her. He got all of her, except the innermost box and the kiss. He never knew about the box, and in time he gave up trying for the kiss. Wendy thought Napoleon could have got it, but I can picture him trying, and then going off in a passion, slamming the door. Mr. Darling used to boast to Wendy that her mother not only loved him but respected him. He was one of those deep ones who know about stocks and shares. Of course no one really knows, but he quite seemed to know, and he often said stocks were up and shares were down in a way that would have made any woman respect him.\"\"\"\n",
    "bearer_token = 'Bearer sess-abcd1234..'\n",
    "\n",
    "od = OpenaiDetector(bearer_token)\n",
    "response = od.detect(sentence)\n",
    "print(response)                          \n",
    "                          "
   ]
  },
  {
   "cell_type": "code",
   "execution_count": 5,
   "metadata": {},
   "outputs": [
    {
     "name": "stdout",
     "output_type": "stream",
     "text": [
      "{'Class': 'unlikely', 'AI-Generated Probability': 87.50255089182815}\n"
     ]
    }
   ],
   "source": [
    "ai = \"\"\"As an AI language model, I don't have personal opinions. But the saying \"\"separate the art from the artist\"\" is a debateable topic in the art world. Some argue that the personal behavior of an artist shouldn't impact our enjoyment or critique of their work, while others believe that an artist's actions should be considered when evaluating their creations. Ultimately, it's a personal decision whether to separate or consider the artist in the evaluation of their art.\"\"\"\n",
    "bearer_token = 'Bearer sess-abcd1234..'\n",
    "\n",
    "od = OpenaiDetector(bearer_token)\n",
    "response = od.detect(ai)\n",
    "print(response)                          \n",
    "                          "
   ]
  },
  {
   "cell_type": "code",
   "execution_count": 1,
   "metadata": {},
   "outputs": [
    {
     "name": "stdout",
     "output_type": "stream",
     "text": [
      "27\n",
      "2.825387053388686e-05\n"
     ]
    }
   ],
   "source": [
    "import operator as op\n",
    "from functools import reduce\n",
    "\n",
    "def ncr(n, r):\n",
    "    r = min(r, n-r)\n",
    "    numer = reduce(op.mul, range(n, n-r, -1), 1)\n",
    "    denom = reduce(op.mul, range(1, r+1), 1)\n",
    "    return numer // denom \n",
    "\n",
    "N = 11\n",
    "prev_fail_prob = 0\n",
    "while True:\n",
    "    failure_prob = 0\n",
    "    for k in range(11, N + 1):\n",
    "        failure_prob += (ncr(N, k) * (0.1 ** k) * (0.9 ** (N - k)))\n",
    "    if failure_prob >= (3 * (10 ** (-5))):\n",
    "        print(N - 1)\n",
    "        print(prev_fail_prob)\n",
    "        break\n",
    "    prev_fail_prob = failure_prob\n",
    "    N += 1"
   ]
  },
  {
   "cell_type": "code",
   "execution_count": 22,
   "metadata": {},
   "outputs": [],
   "source": []
  },
  {
   "cell_type": "code",
   "execution_count": 10,
   "metadata": {},
   "outputs": [
    {
     "data": {
      "text/plain": [
       "4"
      ]
     },
     "execution_count": 10,
     "metadata": {},
     "output_type": "execute_result"
    }
   ],
   "source": [
    "def hcf(a, b):\n",
    "    while b != 0:\n",
    "        c = a\n",
    "        b = a % b\n",
    "        a = b\n",
    "    return c\n",
    "hcf(4,20)"
   ]
  },
  {
   "cell_type": "code",
   "execution_count": 11,
   "metadata": {},
   "outputs": [
    {
     "data": {
      "text/plain": [
       "4"
      ]
     },
     "execution_count": 11,
     "metadata": {},
     "output_type": "execute_result"
    }
   ],
   "source": [
    "def hcf2(a, b):\n",
    "    while a != b:\n",
    "        if a > b:\n",
    "            a = a - b # a = -10\n",
    "        else:\n",
    "            b = b - a \n",
    "    return b\n",
    "\n",
    "hcf2(20,8)"
   ]
  },
  {
   "cell_type": "code",
   "execution_count": 3,
   "metadata": {},
   "outputs": [
    {
     "data": {
      "text/plain": [
       "4"
      ]
     },
     "execution_count": 3,
     "metadata": {},
     "output_type": "execute_result"
    }
   ],
   "source": [
    "def hcf(a, b):\n",
    "    hcf, i = 1, 1\n",
    "    while i <= a and i <= b:\n",
    "        if a % i == 0 and b % i == 0: #here\n",
    "            hcf = i\n",
    "        i = i + 1\n",
    "    return hcf\n",
    "hcf(20,8)"
   ]
  },
  {
   "cell_type": "code",
   "execution_count": 93,
   "metadata": {},
   "outputs": [
    {
     "data": {
      "text/plain": [
       "1"
      ]
     },
     "execution_count": 93,
     "metadata": {},
     "output_type": "execute_result"
    }
   ],
   "source": [
    "def hcf(a, b):\n",
    "    if a == b:\n",
    "        return a\n",
    "    if a == 0:\n",
    "        return b\n",
    "    if b == 0:\n",
    "        return a\n",
    "    if (~b & 1) == 1:\n",
    "        if (a & 1) == 1:\n",
    "            return hcf(a, b >> 1)\n",
    "        else:\n",
    "            return hcf(a >> 1, b >> 1)\n",
    "    if (~a & 1) == 1:\n",
    "        return hcf(a >> 1, b)\n",
    "    if a < b:\n",
    "        return hcf(a, b - a)\n",
    "    return hcf(a - b, b)\n",
    "\n",
    "\n",
    "hcf(20,8)"
   ]
  },
  {
   "cell_type": "code",
   "execution_count": 5,
   "metadata": {},
   "outputs": [
    {
     "data": {
      "text/plain": [
       "12"
      ]
     },
     "execution_count": 5,
     "metadata": {},
     "output_type": "execute_result"
    }
   ],
   "source": [
    "def lcm(a, b):\n",
    "    x = max(a, b)\n",
    "    y = min(a, b)\n",
    "    for i in range(x, a * b + 1, x):\n",
    "        if i % y == 0:\n",
    "            return i\n",
    "\n",
    "\n",
    "lcm(3,12)"
   ]
  },
  {
   "cell_type": "code",
   "execution_count": null,
   "metadata": {},
   "outputs": [],
   "source": [
    "def hcf(a, b):\n",
    "    if a == b:\n",
    "        return a\n",
    "    if a == 0:\n",
    "        return b\n",
    "    if b == 0:\n",
    "        return a\n",
    "    if (~b & 1) == 1: # B even 0, should change to a even\n",
    "        if (b & 1) == 1: # b odd 1\n",
    "            return hcf(a >> 1, b) # a even, b odd\n",
    "        else: # b even\n",
    "            return (hcf(a >> 1, b >> 1) << 1) # a b even\n",
    "    if (~a & 1) == 1: #a\n",
    "        return hcf(a, b >> 1)\n",
    "    if a < b:\n",
    "        return hcf((a - b) >> 1, b)\n",
    "    return hcf((b - a) >> 1, a)\n",
    "\n",
    "hcf(20,8)"
   ]
  },
  {
   "cell_type": "code",
   "execution_count": 2,
   "metadata": {},
   "outputs": [
    {
     "data": {
      "text/plain": [
       "12"
      ]
     },
     "execution_count": 2,
     "metadata": {},
     "output_type": "execute_result"
    }
   ],
   "source": [
    "def hcf(a, b):\n",
    "    while b:\n",
    "        c = b\n",
    "        b = a % b\n",
    "        a = c\n",
    "    return a\n",
    "def lcm2(a, b):\n",
    "    c = b // hcf(a, b)\n",
    "    return c * a\n",
    "    # return (a * b) // hcf(a, b)\n",
    "\n",
    "\n",
    "def lcm3(a, b, c):\n",
    "    # x = a * hcf(b, c) \n",
    "    # y = hcf(a, lcm2(b, c))\n",
    "    # return x // y\n",
    "    x = a * hcf(b, c) \n",
    "    y = hcf(a, hcf(b, c))\n",
    "    return x // y\n",
    "\n",
    "# lcm3(3,12,16)\n",
    "lcm2(3,12)"
   ]
  },
  {
   "cell_type": "code",
   "execution_count": 3,
   "metadata": {},
   "outputs": [],
   "source": [
    "class ConsistentHashing(object):\n",
    "    def __init__(self, nodes=None):\n",
    "        self.ring = dict()\n",
    "        self.keys = []\n",
    "        if nodes:\n",
    "            for node in nodes:\n",
    "                self.add_node(node)\n",
    "\n",
    "    def add_node(self, node):\n",
    "        key = self.GEN_KEY(node)\n",
    "        self.ring[key] = node\n",
    "        self.keys.append(key)\n",
    "\n",
    "    def remove_node(self, node):\n",
    "        key = self.GEN_KEY(node)\n",
    "        del self.ring[key]\n",
    "        self.keys.remove(key)\n",
    "\n",
    "    def get_node(self, string_key):\n",
    "        pos = self.get_node_pos(string_key)\n",
    "        if pos == -1:\n",
    "            return None #here\n",
    "        return self.ring[self.keys[pos]] #here \n",
    "\n",
    "    def get_node_pos(self, string_key):\n",
    "        if not self.ring:\n",
    "            return -1\n",
    "        key = self.GEN_KEY(string_key) #here\n",
    "        nodes = self.keys\n",
    "        for i in range(1, len(nodes)):\n",
    "            node = nodes[i]\n",
    "            if key <= node:\n",
    "                return i\n",
    "        return 0\n"
   ]
  },
  {
   "cell_type": "code",
   "execution_count": 5,
   "metadata": {},
   "outputs": [],
   "source": [
    "class ConsistentHashing(object):\n",
    "    def __init__(self, nodes=None):\n",
    "        self.ring = dict()\n",
    "        self.keys = []\n",
    "        if nodes:\n",
    "            for node in nodes:\n",
    "                self.add_node(node)\n",
    "    def add_node(self, node):\n",
    "        key = self.GEN_KEY(node)\n",
    "        self.ring[key] = node\n",
    "        self.keys.append(key)\n",
    "    def remove_node(self, node):\n",
    "        key = self.GEN_KEY(node)\n",
    "        del self.ring[key]\n",
    "        self.keys.remove(key)\n",
    "    def get_node(self, string_key):\n",
    "        pos = self.get_node_pos(string_key)\n",
    "        if pos == -1:\n",
    "            return 'None'\n",
    "        return self.keys[pos]\n",
    "    def get_node_pos(self, string_key):\n",
    "        if not self.ring:\n",
    "            return -1\n",
    "        key = self.gen_key(string_key)\n",
    "        nodes = self.keys\n",
    "        for i in range(1, len(nodes)):\n",
    "            node = nodes[i]\n",
    "            if key <= node:\n",
    "                return  i\n",
    "        return  0"
   ]
  },
  {
   "cell_type": "code",
   "execution_count": 6,
   "metadata": {},
   "outputs": [
    {
     "ename": "AttributeError",
     "evalue": "'ConsistentHashing' object has no attribute 'GEN_KEY'",
     "output_type": "error",
     "traceback": [
      "\u001b[0;31m---------------------------------------------------------------------------\u001b[0m",
      "\u001b[0;31mAttributeError\u001b[0m                            Traceback (most recent call last)",
      "\u001b[1;32m/Users/lizliao/Downloads/cz4052project/test.ipynb Cell 15\u001b[0m in \u001b[0;36m3\n\u001b[1;32m      <a href='vscode-notebook-cell:/Users/lizliao/Downloads/cz4052project/test.ipynb#X21sZmlsZQ%3D%3D?line=0'>1</a>\u001b[0m \u001b[39m# Test case 1: Creating a hash ring with 3 nodes\u001b[39;00m\n\u001b[1;32m      <a href='vscode-notebook-cell:/Users/lizliao/Downloads/cz4052project/test.ipynb#X21sZmlsZQ%3D%3D?line=1'>2</a>\u001b[0m nodes \u001b[39m=\u001b[39m [\u001b[39m'\u001b[39m\u001b[39mnode1\u001b[39m\u001b[39m'\u001b[39m, \u001b[39m'\u001b[39m\u001b[39mnode2\u001b[39m\u001b[39m'\u001b[39m, \u001b[39m'\u001b[39m\u001b[39mnode3\u001b[39m\u001b[39m'\u001b[39m]\n\u001b[0;32m----> <a href='vscode-notebook-cell:/Users/lizliao/Downloads/cz4052project/test.ipynb#X21sZmlsZQ%3D%3D?line=2'>3</a>\u001b[0m ch \u001b[39m=\u001b[39m ConsistentHashing(nodes)\n\u001b[1;32m      <a href='vscode-notebook-cell:/Users/lizliao/Downloads/cz4052project/test.ipynb#X21sZmlsZQ%3D%3D?line=3'>4</a>\u001b[0m \u001b[39mprint\u001b[39m(ch\u001b[39m.\u001b[39mget_node(\u001b[39m'\u001b[39m\u001b[39mkey1\u001b[39m\u001b[39m'\u001b[39m))  \u001b[39m# Output: node1\u001b[39;00m\n\u001b[1;32m      <a href='vscode-notebook-cell:/Users/lizliao/Downloads/cz4052project/test.ipynb#X21sZmlsZQ%3D%3D?line=5'>6</a>\u001b[0m \u001b[39m# Test case 2: Adding a new node to the hash ring\u001b[39;00m\n",
      "\u001b[1;32m/Users/lizliao/Downloads/cz4052project/test.ipynb Cell 15\u001b[0m in \u001b[0;36m7\n\u001b[1;32m      <a href='vscode-notebook-cell:/Users/lizliao/Downloads/cz4052project/test.ipynb#X21sZmlsZQ%3D%3D?line=4'>5</a>\u001b[0m \u001b[39mif\u001b[39;00m nodes:\n\u001b[1;32m      <a href='vscode-notebook-cell:/Users/lizliao/Downloads/cz4052project/test.ipynb#X21sZmlsZQ%3D%3D?line=5'>6</a>\u001b[0m     \u001b[39mfor\u001b[39;00m node \u001b[39min\u001b[39;00m nodes:\n\u001b[0;32m----> <a href='vscode-notebook-cell:/Users/lizliao/Downloads/cz4052project/test.ipynb#X21sZmlsZQ%3D%3D?line=6'>7</a>\u001b[0m         \u001b[39mself\u001b[39;49m\u001b[39m.\u001b[39;49madd_node(node)\n",
      "\u001b[1;32m/Users/lizliao/Downloads/cz4052project/test.ipynb Cell 15\u001b[0m in \u001b[0;36m9\n\u001b[1;32m      <a href='vscode-notebook-cell:/Users/lizliao/Downloads/cz4052project/test.ipynb#X21sZmlsZQ%3D%3D?line=7'>8</a>\u001b[0m \u001b[39mdef\u001b[39;00m \u001b[39madd_node\u001b[39m(\u001b[39mself\u001b[39m, node):\n\u001b[0;32m----> <a href='vscode-notebook-cell:/Users/lizliao/Downloads/cz4052project/test.ipynb#X21sZmlsZQ%3D%3D?line=8'>9</a>\u001b[0m     key \u001b[39m=\u001b[39m \u001b[39mself\u001b[39;49m\u001b[39m.\u001b[39;49mGEN_KEY(node)\n\u001b[1;32m     <a href='vscode-notebook-cell:/Users/lizliao/Downloads/cz4052project/test.ipynb#X21sZmlsZQ%3D%3D?line=9'>10</a>\u001b[0m     \u001b[39mself\u001b[39m\u001b[39m.\u001b[39mring[key] \u001b[39m=\u001b[39m node\n\u001b[1;32m     <a href='vscode-notebook-cell:/Users/lizliao/Downloads/cz4052project/test.ipynb#X21sZmlsZQ%3D%3D?line=10'>11</a>\u001b[0m     \u001b[39mself\u001b[39m\u001b[39m.\u001b[39mkeys\u001b[39m.\u001b[39mappend(key)\n",
      "\u001b[0;31mAttributeError\u001b[0m: 'ConsistentHashing' object has no attribute 'GEN_KEY'"
     ]
    }
   ],
   "source": [
    "# Test case 1: Creating a hash ring with 3 nodes\n",
    "nodes = ['node1', 'node2', 'node3']\n",
    "ch = ConsistentHashing(nodes)\n",
    "print(ch.get_node('key1'))  # Output: node1\n",
    "\n",
    "# Test case 2: Adding a new node to the hash ring\n",
    "ch.add_node('node4')\n",
    "print(ch.get_node('key1'))  # Output: node4\n",
    "\n",
    "# Test case 3: Removing a node from the hash ring\n",
    "ch.remove_node('node2')\n",
    "print(ch.get_node('key1'))  # Output: node4\n",
    "\n",
    "# Test case 4: Getting node position\n",
    "print(ch.get_node_pos('key1'))  # Output: 1\n",
    "print(ch.get_node_pos('key5'))  # Output: -1\n"
   ]
  },
  {
   "cell_type": "code",
   "execution_count": null,
   "metadata": {},
   "outputs": [],
   "source": [
    "\n",
    "# ori\n",
    "\n",
    "class ConsistentHashing(object):\n",
    "    def __init__(self, nodes=None):\n",
    "        self.ring = dict()\n",
    "        self.keys = []\n",
    "        if nodes:\n",
    "            for node in nodes:\n",
    "                self.add_node(node)\n",
    "    def add_node(self, node):\n",
    "        key = self.GEN_KEY(node)\n",
    "        self.ring[key] = node\n",
    "        self.keys.append(key)\n",
    "    def remove_node(self, node):\n",
    "        key = self.GEN_KEY(node)\n",
    "        del self.ring[key]\n",
    "        self.keys.remove(key)\n",
    "    def get_node(self, string_key):\n",
    "        pos = self.get_node_pos(string_key)\n",
    "        if pos == -1:\n",
    "            return 'None'\n",
    "        return self.keys[pos]\n",
    "    def get_node_pos(self, string_key):\n",
    "        if not self.ring:\n",
    "            return -1\n",
    "        key = self.gen_key(string_key)\n",
    "        nodes = self.keys\n",
    "        for i in range(1, len(nodes)):\n",
    "            node = nodes[i]\n",
    "            if key <= node:\n",
    "                return  i\n",
    "        return  0"
   ]
  },
  {
   "cell_type": "code",
   "execution_count": 2,
   "metadata": {},
   "outputs": [
    {
     "data": {
      "text/plain": [
       "4"
      ]
     },
     "execution_count": 2,
     "metadata": {},
     "output_type": "execute_result"
    }
   ],
   "source": [
    "def hcf_4(a, b):\n",
    "    '''\n",
    "    - When both a and b are even, the HCF is twice the HCF of a/2 and b/2.\n",
    "    - If b is even and a is odd, the HCF is the same as that of b/2 and a,\n",
    "    - and if b is odd and a is even, the HCF is the same as that of b and a/2.\n",
    "    - If both a and b are odd, the HCF equals the HCF of |b-a| and the smaller of b and a.\n",
    "\n",
    "    (~a & 1) == 1: check if a is even\n",
    "    (b & 1) == 1:  check if b is odd\n",
    "    a >> 1: a / 2\n",
    "    a << 1: a * 2\n",
    "    '''\n",
    "    if a == b:\n",
    "        return a\n",
    "    if a == 0:\n",
    "        return b\n",
    "    if b == 0:\n",
    "        return a\n",
    "    if (~a & 1) == 1:  # CHANGED 'b' to 'a'\n",
    "        if (b & 1) == 1:\n",
    "            return hcf_4(a >> 1, b)  # a is even, b is odd\n",
    "        else:\n",
    "            return (hcf_4(a >> 1, b >> 1) << 1)  # a is even, b is even\n",
    "    if (~b & 1) == 1:  # CHANGED 'a' to 'b'\n",
    "        return hcf_4(a, b >> 1)  # a is odd, b is even\n",
    "    if a > b:  # CHANGED '<' to '>'\n",
    "        return hcf_4((a - b) >> 1, b)\n",
    "    return hcf_4((b - a) >> 1, a)\n",
    "\n",
    "hcf_4(20,8)"
   ]
  }
 ],
 "metadata": {
  "kernelspec": {
   "display_name": "base",
   "language": "python",
   "name": "python3"
  },
  "language_info": {
   "codemirror_mode": {
    "name": "ipython",
    "version": 3
   },
   "file_extension": ".py",
   "mimetype": "text/x-python",
   "name": "python",
   "nbconvert_exporter": "python",
   "pygments_lexer": "ipython3",
   "version": "3.8.13"
  },
  "orig_nbformat": 4
 },
 "nbformat": 4,
 "nbformat_minor": 2
}
