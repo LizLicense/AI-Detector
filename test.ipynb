{
 "cells": [
  {
   "cell_type": "code",
   "execution_count": 1,
   "metadata": {},
   "outputs": [],
   "source": [
    "from detector import OpenaiDetector\n",
    "\n"
   ]
  },
  {
   "cell_type": "code",
   "execution_count": 4,
   "metadata": {},
   "outputs": [
    {
     "name": "stdout",
     "output_type": "stream",
     "text": [
      "{'Class': 'very unlikely', 'AI-Generated Probability': 3.4583769381404563}\n"
     ]
    }
   ],
   "source": [
    "sentence     = \"\"\"All children, except one, grow up. They soon know that they will grow up, and the way Wendy knew was this. One day when she was two years old she was playing in a garden, and she plucked another flower and ran with it to her mother. I suppose she must have looked rather delightful, for Mrs. Darling put her hand to her heart and cried, “Oh, why can’t you remain like this for ever!” This was all that passed between them on the subject, but henceforth Wendy knew that she must grow up. You always know after you are two. Two is the beginning of the end. Of course they lived at 14, and until Wendy came her mother was the chief one. She was a lovely lady, with a romantic mind and such a sweet mocking mouth. Her romantic mind was like the tiny boxes, one within the other, that come from the puzzling East, however many you discover there is always one more; and her sweet mocking mouth had one kiss on it that Wendy could never get, though there it was, perfectly conspicuous in the right-hand corner. The way Mr. Darling won her was this: the many gentlemen who had been boys when she was a girl discovered simultaneously that they loved her, and they all ran to her house to propose to her except Mr. Darling, who took a cab and nipped in first, and so he got her. He got all of her, except the innermost box and the kiss. He never knew about the box, and in time he gave up trying for the kiss. Wendy thought Napoleon could have got it, but I can picture him trying, and then going off in a passion, slamming the door. Mr. Darling used to boast to Wendy that her mother not only loved him but respected him. He was one of those deep ones who know about stocks and shares. Of course no one really knows, but he quite seemed to know, and he often said stocks were up and shares were down in a way that would have made any woman respect him.\"\"\"\n",
    "bearer_token = 'Bearer sess-abcd1234..'\n",
    "\n",
    "od = OpenaiDetector(bearer_token)\n",
    "response = od.detect(sentence)\n",
    "print(response)                          \n",
    "                          "
   ]
  },
  {
   "cell_type": "code",
   "execution_count": 5,
   "metadata": {},
   "outputs": [
    {
     "name": "stdout",
     "output_type": "stream",
     "text": [
      "{'Class': 'unlikely', 'AI-Generated Probability': 87.50255089182815}\n"
     ]
    }
   ],
   "source": [
    "ai = \"\"\"As an AI language model, I don't have personal opinions. But the saying \"\"separate the art from the artist\"\" is a debateable topic in the art world. Some argue that the personal behavior of an artist shouldn't impact our enjoyment or critique of their work, while others believe that an artist's actions should be considered when evaluating their creations. Ultimately, it's a personal decision whether to separate or consider the artist in the evaluation of their art.\"\"\"\n",
    "bearer_token = 'Bearer sess-abcd1234..'\n",
    "\n",
    "od = OpenaiDetector(bearer_token)\n",
    "response = od.detect(ai)\n",
    "print(response)                          \n",
    "                          "
   ]
  }
 ],
 "metadata": {
  "kernelspec": {
   "display_name": "base",
   "language": "python",
   "name": "python3"
  },
  "language_info": {
   "codemirror_mode": {
    "name": "ipython",
    "version": 3
   },
   "file_extension": ".py",
   "mimetype": "text/x-python",
   "name": "python",
   "nbconvert_exporter": "python",
   "pygments_lexer": "ipython3",
   "version": "3.8.13"
  },
  "orig_nbformat": 4
 },
 "nbformat": 4,
 "nbformat_minor": 2
}
